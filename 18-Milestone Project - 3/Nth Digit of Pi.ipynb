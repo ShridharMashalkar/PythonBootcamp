{
 "cells": [
  {
   "cell_type": "code",
   "execution_count": 130,
   "metadata": {},
   "outputs": [
    {
     "name": "stdout",
     "output_type": "stream",
     "text": [
      "3.141592653589793\n"
     ]
    },
    {
     "data": {
      "text/plain": [
       "6"
      ]
     },
     "execution_count": 130,
     "metadata": {},
     "output_type": "execute_result"
    }
   ],
   "source": [
    "from math import pi, factorial\n",
    "from decimal import Decimal as dec, getcontext\n",
    "import numpy as np\n",
    "print(pi)\n",
    "round(pi, 4)\n",
    "factorial(3)"
   ]
  },
  {
   "cell_type": "code",
   "execution_count": 29,
   "metadata": {},
   "outputs": [],
   "source": [
    "def pi_to_nth_digit():\n",
    "    n = int(input('How many digits of pi? '))\n",
    "    return round(pi, n)"
   ]
  },
  {
   "cell_type": "code",
   "execution_count": 30,
   "metadata": {},
   "outputs": [
    {
     "name": "stdout",
     "output_type": "stream",
     "text": [
      "How many digits of pi? 10\n"
     ]
    },
    {
     "data": {
      "text/plain": [
       "3.1415926536"
      ]
     },
     "execution_count": 30,
     "metadata": {},
     "output_type": "execute_result"
    }
   ],
   "source": [
    "pi_to_nth_digit()"
   ]
  },
  {
   "cell_type": "code",
   "execution_count": 28,
   "metadata": {},
   "outputs": [
    {
     "name": "stdout",
     "output_type": "stream",
     "text": [
      "How many digits of pi? 10\n"
     ]
    },
    {
     "data": {
      "text/plain": [
       "3.1415926536"
      ]
     },
     "execution_count": 28,
     "metadata": {},
     "output_type": "execute_result"
    }
   ],
   "source": [
    "pi_to_nth_digit()"
   ]
  },
  {
   "cell_type": "code",
   "execution_count": 31,
   "metadata": {},
   "outputs": [],
   "source": [
    "def pi_nth_digit():\n",
    "    \n",
    "    precision = int(input('How many digits of pi? '))\n",
    "\n",
    "    return \"{:.{}f}\".format(pi, precision)"
   ]
  },
  {
   "cell_type": "code",
   "execution_count": 32,
   "metadata": {},
   "outputs": [
    {
     "name": "stdout",
     "output_type": "stream",
     "text": [
      "How many digits of pi? 20\n"
     ]
    },
    {
     "data": {
      "text/plain": [
       "'3.14159265358979311600'"
      ]
     },
     "execution_count": 32,
     "metadata": {},
     "output_type": "execute_result"
    }
   ],
   "source": [
    "pi_nth_digit()"
   ]
  },
  {
   "cell_type": "markdown",
   "metadata": {},
   "source": [
    "<h1 style='text-align:center'>Chudnovsky algorithm</h1><br>\n",
    "<img src=\"https://wikimedia.org/api/rest_v1/media/math/render/svg/33822211f8e447e9677df49178f3848cbcc41fed\">"
   ]
  },
  {
   "cell_type": "code",
   "execution_count": 22,
   "metadata": {},
   "outputs": [],
   "source": [
    "def chudnovsky_alg():\n",
    "    \n",
    "    getcontext().prec = 100\n",
    "    \n",
    "    n = int(input('How many digits of pi? '))\n",
    "    \n",
    "    summed = 0 \n",
    "    \n",
    "    for i in range(1000):\n",
    "        \n",
    "        summed += Decimal((-1)**i * factorial(6*i) * ((545140134*i) + 13591409)) / (factorial(3*i) * factorial(i)**3 * (640320)**Decimal(3*i + 1.5))\n",
    "    \n",
    "    return \"{:.{}f}\".format((12*summed)**(-1), n)"
   ]
  },
  {
   "cell_type": "code",
   "execution_count": 23,
   "metadata": {},
   "outputs": [
    {
     "name": "stdout",
     "output_type": "stream",
     "text": [
      "How many digits of pi? 30\n"
     ]
    },
    {
     "data": {
      "text/plain": [
       "'3.141592653589793238462643383280'"
      ]
     },
     "execution_count": 23,
     "metadata": {},
     "output_type": "execute_result"
    }
   ],
   "source": [
    "chudnovsky_alg()"
   ]
  },
  {
   "cell_type": "code",
   "execution_count": 33,
   "metadata": {},
   "outputs": [
    {
     "data": {
      "text/plain": [
       "Decimal('3.141592653589793115997963468544185161590576171875')"
      ]
     },
     "execution_count": 33,
     "metadata": {},
     "output_type": "execute_result"
    }
   ],
   "source": [
    "getcontext().prec = 100\n",
    "Decimal(pi)"
   ]
  },
  {
   "cell_type": "markdown",
   "metadata": {},
   "source": [
    "<h1 style='text-align: center'>Nilakantha Series</h1>"
   ]
  },
  {
   "cell_type": "code",
   "execution_count": 134,
   "metadata": {},
   "outputs": [
    {
     "data": {
      "text/plain": [
       "Decimal('0.01190476190')"
      ]
     },
     "execution_count": 134,
     "metadata": {},
     "output_type": "execute_result"
    }
   ],
   "source": [
    "3.16666667 - 3.13333334\n",
    "\n",
    "dec(4)/dec(4*5*6)\n",
    "dec(4)/dec(6*7*8)"
   ]
  },
  {
   "cell_type": "code",
   "execution_count": 150,
   "metadata": {},
   "outputs": [],
   "source": [
    "\n",
    "\n",
    "def nila_series():\n",
    "    \n",
    "    i, j, k, pi = dec(2), dec(3), dec(4), dec(3)\n",
    "   \n",
    "    getcontext().prec = int(input('Give a number of precision: ')) + 1\n",
    "    \n",
    "    for a in range(10**6): \n",
    "        \n",
    "        pi += dec(4) / dec(i * j * k)\n",
    "        \n",
    "        i += dec(2)\n",
    "        j += dec(2)\n",
    "        k += dec(2)\n",
    "        \n",
    "        pi -= dec(4) / dec(i * j * k)\n",
    "        \n",
    "        i += dec(2)\n",
    "        j += dec(2)\n",
    "        k += dec(2)\n",
    "        \n",
    "    \n",
    "    return pi"
   ]
  },
  {
   "cell_type": "code",
   "execution_count": 151,
   "metadata": {},
   "outputs": [
    {
     "name": "stdout",
     "output_type": "stream",
     "text": [
      "Give a number of precision: 20\n"
     ]
    },
    {
     "data": {
      "text/plain": [
       "Decimal('3.14159265358979323857')"
      ]
     },
     "execution_count": 151,
     "metadata": {},
     "output_type": "execute_result"
    }
   ],
   "source": [
    "nila_series()"
   ]
  },
  {
   "cell_type": "code",
   "execution_count": null,
   "metadata": {},
   "outputs": [],
   "source": []
  }
 ],
 "metadata": {
  "kernelspec": {
   "display_name": "Python 3",
   "language": "python",
   "name": "python3"
  },
  "language_info": {
   "codemirror_mode": {
    "name": "ipython",
    "version": 3
   },
   "file_extension": ".py",
   "mimetype": "text/x-python",
   "name": "python",
   "nbconvert_exporter": "python",
   "pygments_lexer": "ipython3",
   "version": "3.7.1"
  }
 },
 "nbformat": 4,
 "nbformat_minor": 2
}
